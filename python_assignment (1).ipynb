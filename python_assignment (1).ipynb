{
 "cells": [
  {
   "cell_type": "markdown",
   "metadata": {},
   "source": [
    "# Assignment"
   ]
  },
  {
   "cell_type": "code",
   "execution_count": 28,
   "metadata": {},
   "outputs": [],
   "source": [
    "pythonlist = ['Ama', 54, 'Kojo', 45.5, 'Yhup', 52, 'Kwame', 96, 'Kwesi', 87, 'Roland', True, 'Nti',\n",
    "             45, 78.5, 'William', 68, 45.3, 78, 'Patty', False, 98, True, 'Adwoa',21, 65, 'Pappy',\n",
    "             14, 'Folly', False, 52, 'Pency']"
   ]
  },
  {
   "cell_type": "markdown",
   "metadata": {},
   "source": [
    "1. create four lists:\n",
    "a. Floats\n",
    "b. Ints\n",
    "c. Strings\n",
    "d. Booleans\n",
    "\n",
    "2. Place each item in the \"pythonlist\" in the right set created above.\n",
    "\n",
    "3. For the strings and booleans sets, sort the items\n",
    "\n",
    "4. "
   ]
  },
  {
   "cell_type": "code",
   "execution_count": 35,
   "metadata": {},
   "outputs": [],
   "source": [
    "Floats = []\n",
    "Ints = []\n",
    "Strings = []\n",
    "Booleans = []"
   ]
  },
  {
   "cell_type": "code",
   "execution_count": 36,
   "metadata": {},
   "outputs": [],
   "source": [
    "for item in pythonlist:\n",
    "    if type(item) == int:\n",
    "        Ints.append(item)\n",
    "    elif type(item) == str:\n",
    "        Strings.append(item)\n",
    "    elif type(item) == float:\n",
    "        Floats.append(item)\n",
    "    elif type(item) == bool:\n",
    "        Booleans.append(item)"
   ]
  },
  {
   "cell_type": "code",
   "execution_count": 37,
   "metadata": {},
   "outputs": [
    {
     "data": {
      "text/plain": [
       "[54, 52, 96, 87, 45, 68, 78, 98, 21, 65, 14, 52]"
      ]
     },
     "execution_count": 37,
     "metadata": {},
     "output_type": "execute_result"
    }
   ],
   "source": [
    "Booleans.sort()\n",
    "Strings.sort()\n",
    "Floats\n",
    "Ints"
   ]
  },
  {
   "cell_type": "code",
   "execution_count": 38,
   "metadata": {},
   "outputs": [
    {
     "data": {
      "text/plain": [
       "[False, False, True, True]"
      ]
     },
     "execution_count": 38,
     "metadata": {},
     "output_type": "execute_result"
    }
   ],
   "source": [
    "Booleans"
   ]
  },
  {
   "cell_type": "code",
   "execution_count": 39,
   "metadata": {},
   "outputs": [
    {
     "data": {
      "text/plain": [
       "[45.5, 78.5, 45.3]"
      ]
     },
     "execution_count": 39,
     "metadata": {},
     "output_type": "execute_result"
    }
   ],
   "source": [
    "Floats"
   ]
  },
  {
   "cell_type": "code",
   "execution_count": 41,
   "metadata": {},
   "outputs": [
    {
     "data": {
      "text/plain": [
       "['Adwoa',\n",
       " 'Ama',\n",
       " 'Folly',\n",
       " 'Kojo',\n",
       " 'Kwame',\n",
       " 'Kwesi',\n",
       " 'Nti',\n",
       " 'Pappy',\n",
       " 'Patty',\n",
       " 'Pency',\n",
       " 'Roland',\n",
       " 'William',\n",
       " 'Yhup']"
      ]
     },
     "execution_count": 41,
     "metadata": {},
     "output_type": "execute_result"
    }
   ],
   "source": [
    "Strings"
   ]
  },
  {
   "cell_type": "code",
   "execution_count": null,
   "metadata": {},
   "outputs": [],
   "source": []
  },
  {
   "cell_type": "code",
   "execution_count": null,
   "metadata": {},
   "outputs": [],
   "source": []
  },
  {
   "cell_type": "code",
   "execution_count": null,
   "metadata": {},
   "outputs": [],
   "source": []
  }
 ],
 "metadata": {
  "kernelspec": {
   "display_name": "Python 3",
   "language": "python",
   "name": "python3"
  },
  "language_info": {
   "codemirror_mode": {
    "name": "ipython",
    "version": 3
   },
   "file_extension": ".py",
   "mimetype": "text/x-python",
   "name": "python",
   "nbconvert_exporter": "python",
   "pygments_lexer": "ipython3",
   "version": "3.8.5"
  }
 },
 "nbformat": 4,
 "nbformat_minor": 2
}
